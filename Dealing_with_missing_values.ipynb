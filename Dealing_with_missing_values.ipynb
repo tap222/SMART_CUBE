{
 "cells": [
  {
   "cell_type": "code",
   "execution_count": 3,
   "metadata": {
    "collapsed": false
   },
   "outputs": [],
   "source": [
    "import pandas as pd\n",
    "import os\n",
    "import numpy as np\n",
    "from scipy.stats import mode, itemfreq\n",
    "from scipy import delete\n",
    "import matplotlib.pylab as plt\n",
    "from sklearn.linear_model import LogisticRegression\n",
    "from sklearn.ensemble import RandomForestClassifier\n",
    "from sklearn.svm import LinearSVC as SVM\n",
    "from missing_data_imputation import Imputer"
   ]
  },
  {
   "cell_type": "code",
   "execution_count": 4,
   "metadata": {
    "collapsed": false
   },
   "outputs": [
    {
     "data": {
      "text/html": [
       "<div>\n",
       "<style>\n",
       "    .dataframe thead tr:only-child th {\n",
       "        text-align: right;\n",
       "    }\n",
       "\n",
       "    .dataframe thead th {\n",
       "        text-align: left;\n",
       "    }\n",
       "\n",
       "    .dataframe tbody tr th {\n",
       "        vertical-align: top;\n",
       "    }\n",
       "</style>\n",
       "<table border=\"1\" class=\"dataframe\">\n",
       "  <thead>\n",
       "    <tr style=\"text-align: right;\">\n",
       "      <th></th>\n",
       "      <th>Unnamed: 0</th>\n",
       "      <th>SeriousDlqin2yrs</th>\n",
       "      <th>RevolvingUtilizationOfUnsecuredLines</th>\n",
       "      <th>age</th>\n",
       "      <th>NumberOfTime30-59DaysPastDueNotWorse</th>\n",
       "      <th>DebtRatio</th>\n",
       "      <th>MonthlyIncome</th>\n",
       "      <th>NumberOfOpenCreditLinesAndLoans</th>\n",
       "      <th>NumberOfTimes90DaysLate</th>\n",
       "      <th>NumberRealEstateLoansOrLines</th>\n",
       "      <th>NumberOfTime60-89DaysPastDueNotWorse</th>\n",
       "      <th>NumberOfDependents</th>\n",
       "    </tr>\n",
       "  </thead>\n",
       "  <tbody>\n",
       "    <tr>\n",
       "      <th>0</th>\n",
       "      <td>1</td>\n",
       "      <td>1</td>\n",
       "      <td>0.766127</td>\n",
       "      <td>45</td>\n",
       "      <td>2</td>\n",
       "      <td>0.802982</td>\n",
       "      <td>9120.0</td>\n",
       "      <td>13</td>\n",
       "      <td>0</td>\n",
       "      <td>6</td>\n",
       "      <td>0</td>\n",
       "      <td>2.0</td>\n",
       "    </tr>\n",
       "    <tr>\n",
       "      <th>1</th>\n",
       "      <td>2</td>\n",
       "      <td>0</td>\n",
       "      <td>0.957151</td>\n",
       "      <td>40</td>\n",
       "      <td>0</td>\n",
       "      <td>0.121876</td>\n",
       "      <td>2600.0</td>\n",
       "      <td>4</td>\n",
       "      <td>0</td>\n",
       "      <td>0</td>\n",
       "      <td>0</td>\n",
       "      <td>1.0</td>\n",
       "    </tr>\n",
       "    <tr>\n",
       "      <th>2</th>\n",
       "      <td>3</td>\n",
       "      <td>0</td>\n",
       "      <td>0.658180</td>\n",
       "      <td>38</td>\n",
       "      <td>1</td>\n",
       "      <td>0.085113</td>\n",
       "      <td>3042.0</td>\n",
       "      <td>2</td>\n",
       "      <td>1</td>\n",
       "      <td>0</td>\n",
       "      <td>0</td>\n",
       "      <td>0.0</td>\n",
       "    </tr>\n",
       "    <tr>\n",
       "      <th>3</th>\n",
       "      <td>4</td>\n",
       "      <td>0</td>\n",
       "      <td>0.233810</td>\n",
       "      <td>30</td>\n",
       "      <td>0</td>\n",
       "      <td>0.036050</td>\n",
       "      <td>3300.0</td>\n",
       "      <td>5</td>\n",
       "      <td>0</td>\n",
       "      <td>0</td>\n",
       "      <td>0</td>\n",
       "      <td>0.0</td>\n",
       "    </tr>\n",
       "    <tr>\n",
       "      <th>4</th>\n",
       "      <td>5</td>\n",
       "      <td>0</td>\n",
       "      <td>0.907239</td>\n",
       "      <td>49</td>\n",
       "      <td>1</td>\n",
       "      <td>0.024926</td>\n",
       "      <td>63588.0</td>\n",
       "      <td>7</td>\n",
       "      <td>0</td>\n",
       "      <td>1</td>\n",
       "      <td>0</td>\n",
       "      <td>0.0</td>\n",
       "    </tr>\n",
       "  </tbody>\n",
       "</table>\n",
       "</div>"
      ],
      "text/plain": [
       "   Unnamed: 0  SeriousDlqin2yrs  RevolvingUtilizationOfUnsecuredLines  age  \\\n",
       "0           1                 1                              0.766127   45   \n",
       "1           2                 0                              0.957151   40   \n",
       "2           3                 0                              0.658180   38   \n",
       "3           4                 0                              0.233810   30   \n",
       "4           5                 0                              0.907239   49   \n",
       "\n",
       "   NumberOfTime30-59DaysPastDueNotWorse  DebtRatio  MonthlyIncome  \\\n",
       "0                                     2   0.802982         9120.0   \n",
       "1                                     0   0.121876         2600.0   \n",
       "2                                     1   0.085113         3042.0   \n",
       "3                                     0   0.036050         3300.0   \n",
       "4                                     1   0.024926        63588.0   \n",
       "\n",
       "   NumberOfOpenCreditLinesAndLoans  NumberOfTimes90DaysLate  \\\n",
       "0                               13                        0   \n",
       "1                                4                        0   \n",
       "2                                2                        1   \n",
       "3                                5                        0   \n",
       "4                                7                        0   \n",
       "\n",
       "   NumberRealEstateLoansOrLines  NumberOfTime60-89DaysPastDueNotWorse  \\\n",
       "0                             6                                     0   \n",
       "1                             0                                     0   \n",
       "2                             0                                     0   \n",
       "3                             0                                     0   \n",
       "4                             1                                     0   \n",
       "\n",
       "   NumberOfDependents  \n",
       "0                 2.0  \n",
       "1                 1.0  \n",
       "2                 0.0  \n",
       "3                 0.0  \n",
       "4                 0.0  "
      ]
     },
     "execution_count": 4,
     "metadata": {},
     "output_type": "execute_result"
    }
   ],
   "source": [
    "os.chdir('/home/tapas/')\n",
    "df = pd.read_csv(\"cs-training.csv\")\n",
    "df.head()\n"
   ]
  },
  {
   "cell_type": "code",
   "execution_count": null,
   "metadata": {
    "collapsed": true
   },
   "outputs": [],
   "source": [
    "# enumerate parameters and instantiate Imputer\n",
    "imp = Imputer()\n",
    "missing_data_cond = lambda df: df == ''\n",
    "cat_cols = (1, 3, 4, 5, 6, 7, 8, 12)\n",
    "n_neighbors = 5\n"
   ]
  },
  {
   "cell_type": "code",
   "execution_count": null,
   "metadata": {
    "collapsed": true
   },
   "outputs": [],
   "source": [
    "# # drop observations with missing variables\n",
    "print 'imputing with drop'\n",
    "data_drop = imp.drop(x, missing_data_cond)"
   ]
  },
  {
   "cell_type": "code",
   "execution_count": null,
   "metadata": {
    "collapsed": true
   },
   "outputs": [],
   "source": [
    "# replace missing values with random existing values\n",
    "print 'imputing with random replacement'\n",
    "data_replace = imp.replace(df, missing_data_cond)"
   ]
  },
  {
   "cell_type": "code",
   "execution_count": null,
   "metadata": {
    "collapsed": true
   },
   "outputs": [],
   "source": [
    "# replace missing values with feature summary\n",
    "print 'imputing with feature summarization (mode)'\n",
    "summ_func = lambda df: mode(df)[0]\n",
    "data_mode = imp.summarize(df, summ_func, missing_data_cond)"
   ]
  },
  {
   "cell_type": "code",
   "execution_count": null,
   "metadata": {
    "collapsed": true
   },
   "outputs": [],
   "source": [
    "# replace categorical features with one hot row\n",
    "print 'imputing with one-hot'\n",
    "data_onehot = imp.binarize_data(df, cat_cols)"
   ]
  },
  {
   "cell_type": "code",
   "execution_count": null,
   "metadata": {
    "collapsed": true
   },
   "outputs": [],
   "source": [
    "# replace missing data with predictions using random forest\n",
    "print 'imputing with predicted values from random forest'\n",
    "clf = RandomForestClassifier(n_estimators=100, criterion='gini')\n",
    "data_rf = imp.predict(df, cat_cols, missing_data_cond, clf)"
   ]
  },
  {
   "cell_type": "code",
   "execution_count": null,
   "metadata": {
    "collapsed": true
   },
   "outputs": [],
   "source": [
    "# replace missing data with predictions using SVM\n",
    "print 'imputing with predicted values usng SVM'\n",
    "clf = SVM(\n",
    "    penalty='l2', loss='squared_hinge', dual=True, tol=0.0001, C=1.0, multi_class='ovr', \n",
    "    fit_intercept=True, intercept_scaling=1, class_weight=None, verbose=0, \n",
    "    random_state=None, max_iter=1000)\n",
    "data_svm = imp.predict(df, cat_cols, missing_data_cond, clf)"
   ]
  },
  {
   "cell_type": "code",
   "execution_count": null,
   "metadata": {
    "collapsed": true
   },
   "outputs": [],
   "source": [
    "# replace missing data with predictions using logistic regression\n",
    "print 'imputing with predicted values usng logistic regression'\n",
    "clf = LogisticRegression(\n",
    "            penalty='l2', dual=False, tol=0.0001, C=1.0, fit_intercept=True,\n",
    "            intercept_scaling=1)\n",
    "data_logistic = imp.predict(df, cat_cols, missing_data_cond, clf)"
   ]
  },
  {
   "cell_type": "code",
   "execution_count": null,
   "metadata": {
    "collapsed": true
   },
   "outputs": [],
   "source": [
    "# replace missing data with values obtained after factor analysis\n",
    "print 'imputing with factor analysis'\n",
    "data_facanal = imp.factor_analysis(df, cat_cols, missing_data_cond)"
   ]
  },
  {
   "cell_type": "code",
   "execution_count": null,
   "metadata": {
    "collapsed": true
   },
   "outputs": [],
   "source": [
    "# replace missing data with knn\n",
    "print 'imputing with K-Nearest Neighbors'\n",
    "data_knn = imp.knn(df, n_neighbors, np.mean, missing_data_cond, cat_cols)"
   ]
  },
  {
   "cell_type": "code",
   "execution_count": null,
   "metadata": {
    "collapsed": true
   },
   "outputs": [],
   "source": [
    "def compute_histogram(data, labels):\n",
    "    histogram = itemfreq(sorted(data))\n",
    "    for label in labels:\n",
    "        if label not in histogram[:,0]:\n",
    "            histogram = np.vstack((histogram,\n",
    "                                   np.array([[label, 0]], dtype=object)))\n",
    "    histogram = histogram[histogram[:,0].argsort()]\n",
    "    return histogram"
   ]
  },
  {
   "cell_type": "code",
   "execution_count": null,
   "metadata": {
    "collapsed": true
   },
   "outputs": [],
   "source": [
    "# compute histograms\n",
    "labels = np.unique(x[:,1])\n",
    "freq_data = {}\n",
    "freq_data['Raw data'] = compute_histogram(df[:,1], labels)\n",
    "# freq_data['Drop missing'] = compute_histogram(data_drop[:,1], labels)\n",
    "freq_data['Random replace'] = compute_histogram(data_replace[:,1], labels)\n",
    "freq_data['Summary'] = compute_histogram(data_mode[:,1], labels)\n",
    "freq_data['Random forests'] = compute_histogram(data_rf[:,1], labels)\n",
    "freq_data['SVM'] = compute_histogram(data_svm[:,1], labels)\n",
    "freq_data['Logistic regression'] = compute_histogram(data_logistic[:,1], labels)\n",
    "freq_data['PCA'] = compute_histogram(data_facanal[:,1], labels)\n",
    "freq_data['KNN'] = compute_histogram(data_knn[:,1], labels)"
   ]
  },
  {
   "cell_type": "code",
   "execution_count": null,
   "metadata": {
    "collapsed": true
   },
   "outputs": [],
   "source": [
    "# plot histograms given feature with missing data\n",
    "n_methods = len(freq_data.keys())\n",
    "bins = np.arange(len(labels))\n",
    "width = .25\n",
    "fig, ax = plt.subplots(figsize=(12,8))\n",
    "\n",
    "for i in xrange(n_methods):\n",
    "    key = sorted(freq_data.keys())[i]\n",
    "    offset = i*2*width/float(n_methods)\n",
    "    ax.bar(bins+offset, freq_data[key][:,1].astype(int), width, label=key,\n",
    "           color=plt.cm.hot(i/float(n_methods)), align='center')\n",
    "\n",
    "ax.set_xlabel('Monthly_Income', size=15)\n",
    "ax.set_ylabel('Count', size=15)\n",
    "ax.set_title('Credit (N= 150000)', size=15, fontweight='bold')\n",
    "ax.set_xticks(bins + width)\n",
    "ax.set_xticklabels(labels, rotation=45)\n",
    "plt.legend(loc=2)\n",
    "plt.tight_layout()\n",
    "plt.show()"
   ]
  }
 ],
 "metadata": {
  "kernelspec": {
   "display_name": "Python 2",
   "language": "python",
   "name": "python2"
  },
  "language_info": {
   "codemirror_mode": {
    "name": "ipython",
    "version": 2
   },
   "file_extension": ".py",
   "mimetype": "text/x-python",
   "name": "python",
   "nbconvert_exporter": "python",
   "pygments_lexer": "ipython2",
   "version": "2.7.11"
  }
 },
 "nbformat": 4,
 "nbformat_minor": 0
}
